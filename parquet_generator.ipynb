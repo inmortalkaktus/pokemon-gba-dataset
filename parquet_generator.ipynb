{
 "cells": [
  {
   "cell_type": "code",
   "execution_count": 24,
   "id": "f6dc5766",
   "metadata": {},
   "outputs": [],
   "source": [
    "import os\n",
    "import csv\n",
    "import pandas as pd\n",
    "from PIL import Image\n",
    "from io import BytesIO\n",
    "from fastparquet import ParquetFile, write\n",
    "\n",
    "root = \"./\"\n",
    "raw = os.path.join(root, \"raw\")\n",
    "descriptions = os.path.join(root, 'short_descriptions', 'descriptions.csv')\n",
    "\n",
    "pokemon_list = [name for name in os.listdir(raw)\n",
    "    if os.path.isdir(os.path.join(raw, name))]\n",
    "\n",
    "dataset = {'text': [], 'image': []}\n",
    "\n",
    "def convertToJpeg(im):\n",
    "    with BytesIO() as f:\n",
    "        im.save(f, format='JPEG', quality=100, subsampling=0)\n",
    "        return f.getvalue()\n",
    "\n",
    "with open(descriptions, newline='', encoding=\"utf-8\") as csvfile:\n",
    "     reader = csv.DictReader(csvfile)\n",
    "     for row in reader:\n",
    "        name = row['name']\n",
    "        description = row['short_description']\n",
    "        img_path = os.path.join(root, \"front\", name + \".png\")\n",
    "        \n",
    "        if os.path.exists(img_path) and description != None and description != '':\n",
    "            png_image = Image.open(img_path).convert('RGB')\n",
    "\n",
    "            image_bytes = convertToJpeg(png_image)\n",
    "            dataset['text'].append(description)\n",
    "            dataset['image'].append({'bytes': image_bytes, 'path': None})\n",
    "\n",
    "\n",
    "sprites_df = pd.DataFrame.from_dict(dataset)\n",
    "sprites_df.to_parquet('sprites.parquet')\n",
    "# print(sprites_df)\n"
   ]
  }
 ],
 "metadata": {
  "kernelspec": {
   "display_name": "Python 3 (ipykernel)",
   "language": "python",
   "name": "python3"
  },
  "language_info": {
   "codemirror_mode": {
    "name": "ipython",
    "version": 3
   },
   "file_extension": ".py",
   "mimetype": "text/x-python",
   "name": "python",
   "nbconvert_exporter": "python",
   "pygments_lexer": "ipython3",
   "version": "3.10.6"
  }
 },
 "nbformat": 4,
 "nbformat_minor": 5
}
